{
 "cells": [
  {
   "cell_type": "markdown",
   "id": "5d3a3421",
   "metadata": {},
   "source": [
    "# DEEPSHIKHA RAY"
   ]
  },
  {
   "cell_type": "markdown",
   "id": "2357b28f",
   "metadata": {},
   "source": [
    "# Data Science and Bussiness Analitics\n",
    "# TASK 1 - PREDICTION USING SUPERVISED ML"
   ]
  },
  {
   "cell_type": "markdown",
   "id": "8a3fda71",
   "metadata": {},
   "source": [
    "## Task Description: Predicting the percentage of an student based on the number of study hours.\n"
   ]
  },
  {
   "cell_type": "markdown",
   "id": "b84d3b23",
   "metadata": {},
   "source": [
    "# Importing the required libraries for prediction and for running this codes"
   ]
  },
  {
   "cell_type": "code",
   "execution_count": 1,
   "id": "19a22967",
   "metadata": {},
   "outputs": [],
   "source": [
    "import pandas as pd\n",
    "import numpy as np  \n",
    "import matplotlib.pyplot as plt  \n",
    "from sklearn.model_selection import train_test_split\n",
    "from sklearn.linear_model import LinearRegression\n",
    "from sklearn.metrics import mean_absolute_error\n",
    "import warnings"
   ]
  },
  {
   "cell_type": "markdown",
   "id": "3b0deeb4",
   "metadata": {},
   "source": [
    "# Fetching the data "
   ]
  },
  {
   "cell_type": "code",
   "execution_count": 2,
   "id": "0dd29e21",
   "metadata": {},
   "outputs": [
    {
     "name": "stdout",
     "output_type": "stream",
     "text": [
      "Data import successful\n"
     ]
    },
    {
     "data": {
      "text/html": [
       "<div>\n",
       "<style scoped>\n",
       "    .dataframe tbody tr th:only-of-type {\n",
       "        vertical-align: middle;\n",
       "    }\n",
       "\n",
       "    .dataframe tbody tr th {\n",
       "        vertical-align: top;\n",
       "    }\n",
       "\n",
       "    .dataframe thead th {\n",
       "        text-align: right;\n",
       "    }\n",
       "</style>\n",
       "<table border=\"1\" class=\"dataframe\">\n",
       "  <thead>\n",
       "    <tr style=\"text-align: right;\">\n",
       "      <th></th>\n",
       "      <th>Hours</th>\n",
       "      <th>Scores</th>\n",
       "    </tr>\n",
       "  </thead>\n",
       "  <tbody>\n",
       "    <tr>\n",
       "      <th>count</th>\n",
       "      <td>25.000000</td>\n",
       "      <td>25.000000</td>\n",
       "    </tr>\n",
       "    <tr>\n",
       "      <th>mean</th>\n",
       "      <td>5.012000</td>\n",
       "      <td>51.480000</td>\n",
       "    </tr>\n",
       "    <tr>\n",
       "      <th>std</th>\n",
       "      <td>2.525094</td>\n",
       "      <td>25.286887</td>\n",
       "    </tr>\n",
       "    <tr>\n",
       "      <th>min</th>\n",
       "      <td>1.100000</td>\n",
       "      <td>17.000000</td>\n",
       "    </tr>\n",
       "    <tr>\n",
       "      <th>25%</th>\n",
       "      <td>2.700000</td>\n",
       "      <td>30.000000</td>\n",
       "    </tr>\n",
       "    <tr>\n",
       "      <th>50%</th>\n",
       "      <td>4.800000</td>\n",
       "      <td>47.000000</td>\n",
       "    </tr>\n",
       "    <tr>\n",
       "      <th>75%</th>\n",
       "      <td>7.400000</td>\n",
       "      <td>75.000000</td>\n",
       "    </tr>\n",
       "    <tr>\n",
       "      <th>max</th>\n",
       "      <td>9.200000</td>\n",
       "      <td>95.000000</td>\n",
       "    </tr>\n",
       "  </tbody>\n",
       "</table>\n",
       "</div>"
      ],
      "text/plain": [
       "           Hours     Scores\n",
       "count  25.000000  25.000000\n",
       "mean    5.012000  51.480000\n",
       "std     2.525094  25.286887\n",
       "min     1.100000  17.000000\n",
       "25%     2.700000  30.000000\n",
       "50%     4.800000  47.000000\n",
       "75%     7.400000  75.000000\n",
       "max     9.200000  95.000000"
      ]
     },
     "execution_count": 2,
     "metadata": {},
     "output_type": "execute_result"
    }
   ],
   "source": [
    "Marks = pd.read_csv(r'C:\\Users\\user\\Desktop\\FINAL_DATASET_STUDENT_SCORE.csv')\n",
    "print(\"Data import successful\")\n",
    "Marks.describe()"
   ]
  },
  {
   "cell_type": "markdown",
   "id": "56127b1f",
   "metadata": {},
   "source": [
    "# Taken dataset information"
   ]
  },
  {
   "cell_type": "code",
   "execution_count": 3,
   "id": "a1ee939c",
   "metadata": {},
   "outputs": [
    {
     "name": "stdout",
     "output_type": "stream",
     "text": [
      "<class 'pandas.core.frame.DataFrame'>\n",
      "RangeIndex: 25 entries, 0 to 24\n",
      "Data columns (total 2 columns):\n",
      " #   Column  Non-Null Count  Dtype  \n",
      "---  ------  --------------  -----  \n",
      " 0   Hours   25 non-null     float64\n",
      " 1   Scores  25 non-null     int64  \n",
      "dtypes: float64(1), int64(1)\n",
      "memory usage: 528.0 bytes\n"
     ]
    }
   ],
   "source": [
    "Marks.info()"
   ]
  },
  {
   "cell_type": "markdown",
   "id": "7bd58bca",
   "metadata": {},
   "source": [
    "# Ploting the line graph for the above datset"
   ]
  },
  {
   "cell_type": "code",
   "execution_count": 35,
   "id": "d9da1dfb",
   "metadata": {},
   "outputs": [
    {
     "data": {
      "text/plain": [
       "Text(0, 0.5, 'PERCENTAGE')"
      ]
     },
     "execution_count": 35,
     "metadata": {},
     "output_type": "execute_result"
    },
    {
     "data": {
      "image/png": "[encoded data removed]",
      "text/plain": [
       "<Figure size 432x288 with 1 Axes>"
      ]
     },
     "metadata": {
      "needs_background": "light"
     },
     "output_type": "display_data"
    }
   ],
   "source": [
    "Marks.plot(x='Hours', y='Scores', style='r2--')  \n",
    "plt.title(' PERCENTAGES ACCORDING TO STUDY HOURS')  \n",
    "plt.xlabel('STUDEND IN HOURS')  \n",
    "plt.ylabel('PERCENTAGE')  \n"
   ]
  },
  {
   "cell_type": "markdown",
   "id": "dee99bb8",
   "metadata": {},
   "source": [
    "# Taking Hours and Scores for scatter Plot"
   ]
  },
  {
   "cell_type": "code",
   "execution_count": 33,
   "id": "bbe668ba",
   "metadata": {},
   "outputs": [],
   "source": [
    "x= Marks.Hours\n",
    "y= Marks.Scores"
   ]
  },
  {
   "cell_type": "markdown",
   "id": "da997304",
   "metadata": {},
   "source": [
    "# Plotting a scatter Plot"
   ]
  },
  {
   "cell_type": "code",
   "execution_count": 43,
   "id": "7e7349da",
   "metadata": {},
   "outputs": [
    {
     "data": {
      "image/png": "[encoded data removed]",
      "text/plain": [
       "<Figure size 432x288 with 1 Axes>"
      ]
     },
     "metadata": {
      "needs_background": "light"
     },
     "output_type": "display_data"
    }
   ],
   "source": [
    "plt.scatter(x, y, c='red')\n",
    "plt.xlabel(\"Hours\")\n",
    "plt.ylabel(\"Scores\")\n",
    "plt.show()"
   ]
  },
  {
   "cell_type": "markdown",
   "id": "e0802e6a",
   "metadata": {},
   "source": [
    "# Spliting the dataset"
   ]
  },
  {
   "cell_type": "code",
   "execution_count": 9,
   "id": "f3261a14",
   "metadata": {},
   "outputs": [],
   "source": [
    "a = Marks.iloc[:, :-1].values  \n",
    "b = Marks.iloc[:, 1].values"
   ]
  },
  {
   "cell_type": "markdown",
   "id": "5b7cf5f2",
   "metadata": {},
   "source": [
    "###### a= Marks.iloc[:, :-1].values  \n",
    "b = Marks.iloc[:, 1].values"
   ]
  },
  {
   "cell_type": "markdown",
   "id": "2ac7a3fe",
   "metadata": {},
   "source": [
    "# Training the dataset "
   ]
  },
  {
   "cell_type": "code",
   "execution_count": 10,
   "id": "c58de5c5",
   "metadata": {},
   "outputs": [
    {
     "name": "stdout",
     "output_type": "stream",
     "text": [
      "COMPLETED\n"
     ]
    }
   ],
   "source": [
    "train_a, test_a, train_b, test_b = train_test_split(a, b, test_size=0.2, random_state=0) \n",
    "print('COMPLETED')"
   ]
  },
  {
   "cell_type": "markdown",
   "id": "5c464f00",
   "metadata": {},
   "source": [
    "# Ploting the regression for the dataset"
   ]
  },
  {
   "cell_type": "code",
   "execution_count": 11,
   "id": "00d04472",
   "metadata": {},
   "outputs": [
    {
     "name": "stdout",
     "output_type": "stream",
     "text": [
      " DATA TRAINING COMPLETE.\n"
     ]
    }
   ],
   "source": [
    "regre = LinearRegression()  \n",
    "regre.fit(train_a,train_b) \n",
    "\n",
    "print(\" DATA TRAINING COMPLETE.\")"
   ]
  },
  {
   "cell_type": "code",
   "execution_count": 12,
   "id": "2599be8d",
   "metadata": {},
   "outputs": [
    {
     "name": "stdout",
     "output_type": "stream",
     "text": [
      "[[1.5]\n",
      " [3.2]\n",
      " [7.4]\n",
      " [2.5]\n",
      " [5.9]]\n"
     ]
    },
    {
     "data": {
      "text/plain": [
       "array([16.88414476, 33.73226078, 75.357018  , 26.79480124, 60.49103328])"
      ]
     },
     "execution_count": 12,
     "metadata": {},
     "output_type": "execute_result"
    }
   ],
   "source": [
    "print(test_a) # Testing data - In Hours\n",
    "pred_b = regre.predict(test_a) # Predicting the scores\n",
    "pred_b"
   ]
  },
  {
   "cell_type": "code",
   "execution_count": 13,
   "id": "431285f9",
   "metadata": {},
   "outputs": [
    {
     "data": {
      "text/html": [
       "<div>\n",
       "<style scoped>\n",
       "    .dataframe tbody tr th:only-of-type {\n",
       "        vertical-align: middle;\n",
       "    }\n",
       "\n",
       "    .dataframe tbody tr th {\n",
       "        vertical-align: top;\n",
       "    }\n",
       "\n",
       "    .dataframe thead th {\n",
       "        text-align: right;\n",
       "    }\n",
       "</style>\n",
       "<table border=\"1\" class=\"dataframe\">\n",
       "  <thead>\n",
       "    <tr style=\"text-align: right;\">\n",
       "      <th></th>\n",
       "      <th>Actual</th>\n",
       "      <th>Predicted</th>\n",
       "    </tr>\n",
       "  </thead>\n",
       "  <tbody>\n",
       "    <tr>\n",
       "      <th>0</th>\n",
       "      <td>20</td>\n",
       "      <td>16.884145</td>\n",
       "    </tr>\n",
       "    <tr>\n",
       "      <th>1</th>\n",
       "      <td>27</td>\n",
       "      <td>33.732261</td>\n",
       "    </tr>\n",
       "    <tr>\n",
       "      <th>2</th>\n",
       "      <td>69</td>\n",
       "      <td>75.357018</td>\n",
       "    </tr>\n",
       "    <tr>\n",
       "      <th>3</th>\n",
       "      <td>30</td>\n",
       "      <td>26.794801</td>\n",
       "    </tr>\n",
       "    <tr>\n",
       "      <th>4</th>\n",
       "      <td>62</td>\n",
       "      <td>60.491033</td>\n",
       "    </tr>\n",
       "  </tbody>\n",
       "</table>\n",
       "</div>"
      ],
      "text/plain": [
       "   Actual  Predicted\n",
       "0      20  16.884145\n",
       "1      27  33.732261\n",
       "2      69  75.357018\n",
       "3      30  26.794801\n",
       "4      62  60.491033"
      ]
     },
     "execution_count": 13,
     "metadata": {},
     "output_type": "execute_result"
    }
   ],
   "source": [
    "df = pd.DataFrame({'Actual': test_b, 'Predicted': pred_b})  \n",
    "df "
   ]
  },
  {
   "cell_type": "markdown",
   "id": "2635cdb2",
   "metadata": {},
   "source": [
    "# Finding out the mean error for the dataset"
   ]
  },
  {
   "cell_type": "code",
   "execution_count": 14,
   "id": "727250c7",
   "metadata": {},
   "outputs": [
    {
     "name": "stdout",
     "output_type": "stream",
     "text": [
      "Mean  error:  4.183859899002975\n"
     ]
    }
   ],
   "source": [
    "print('Mean  error: ',mean_absolute_error(test_b,pred_b))"
   ]
  },
  {
   "cell_type": "markdown",
   "id": "0769a9e1",
   "metadata": {},
   "source": [
    "# Predecting the value by giving hours"
   ]
  },
  {
   "cell_type": "code",
   "execution_count": 18,
   "id": "518accd6",
   "metadata": {},
   "outputs": [
    {
     "name": "stdout",
     "output_type": "stream",
     "text": [
      "Score = 41.661\n"
     ]
    }
   ],
   "source": [
    "hours =[4]\n",
    "answer = regre.predict([hours])\n",
    "print(\"Score = {}\".format(round(answer[0],3)))"
   ]
  },
  {
   "cell_type": "markdown",
   "id": "5de49b48",
   "metadata": {},
   "source": []
  }
 ],
 "metadata": {
  "kernelspec": {
   "display_name": "Python 3",
   "language": "python",
   "name": "python3"
  },
  "language_info": {
   "codemirror_mode": {
    "name": "ipython",
    "version": 3
   },
   "file_extension": ".py",
   "mimetype": "text/x-python",
   "name": "python",
   "nbconvert_exporter": "python",
   "pygments_lexer": "ipython3",
   "version": "3.8.10"
  }
 },
 "nbformat": 4,
 "nbformat_minor": 5
}
